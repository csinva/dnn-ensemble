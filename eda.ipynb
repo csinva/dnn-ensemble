{
 "cells": [
  {
   "cell_type": "code",
   "execution_count": 55,
   "metadata": {},
   "outputs": [],
   "source": [
    "import torch\n",
    "import os"
   ]
  },
  {
   "cell_type": "code",
   "execution_count": 57,
   "metadata": {},
   "outputs": [
    {
     "data": {
      "text/plain": [
       "['vit_base_patch32_384-imagenetv2-matched-frequency',\n",
       " 'resnet50-val',\n",
       " 'FixResNet50_v2-imagenetv2-matched-frequency',\n",
       " 'FixResNeXt101_32x48d_v2-imagenetv2-matched-frequency',\n",
       " 'BiT-M-R50x1-ILSVRC2012-val',\n",
       " 'densenet121-val',\n",
       " 'resnet50_adv-train-free-imagenetv2-matched-frequency',\n",
       " 'densenet121-imagenetv2-matched-frequency',\n",
       " 'vit_base_patch32_384-val',\n",
       " 'FixResNet50_v2-val',\n",
       " 'FixResNet50-val',\n",
       " 'vit_base_patch16_224-val',\n",
       " 'FixResNet50CutMix_v2-val',\n",
       " 'vit_large_patch16_384-val',\n",
       " 'vit_large_patch32_384-imagenetv2-matched-frequency',\n",
       " 'FixResNet50CutMix_v2-imagenetv2-matched-frequency',\n",
       " 'vit_small_patch16_224-val',\n",
       " 'FixPNASNet-val',\n",
       " 'FixResNeXt101_32x48d-imagenetv2-matched-frequency',\n",
       " 'resnet50_adv-train-free-val',\n",
       " 'resnet50-imagenetv2-matched-frequency',\n",
       " 'vit_large_patch16_224-imagenetv2-matched-frequency',\n",
       " 'vit_base_patch16_384-val',\n",
       " 'vit_large_patch16_224-val',\n",
       " 'FixResNet50CutMix-val',\n",
       " 'vit_base_patch16_384-imagenetv2-matched-frequency',\n",
       " 'FixResNet50_no_adaptation-val',\n",
       " 'vit_large_patch16_384-imagenetv2-matched-frequency',\n",
       " 'FixResNeXt101_32x48d-val',\n",
       " 'FixResNet50CutMix-imagenetv2-matched-frequency',\n",
       " 'vit_large_patch32_384-val',\n",
       " 'vit_small_patch16_224-imagenetv2-matched-frequency',\n",
       " 'FixResNeXt101_32x48d_v2-val',\n",
       " 'FixResNet50_no_adaptation-imagenetv2-matched-frequency',\n",
       " 'FixPNASNet-imagenetv2-matched-frequency',\n",
       " 'vit_base_patch16_224-imagenetv2-matched-frequency',\n",
       " 'FixResNet50-imagenetv2-matched-frequency']"
      ]
     },
     "execution_count": 57,
     "metadata": {},
     "output_type": "execute_result"
    }
   ],
   "source": [
    "path_to_imagenet = \"/scratch/users/vision/saarim/imagenet-testbed/outputs\"\n",
    "os.listdir(path_to_imagenet)"
   ]
  },
  {
   "cell_type": "code",
   "execution_count": 17,
   "metadata": {},
   "outputs": [],
   "source": [
    "logits = torch.load('/scratch/users/vision/saarim/imagenet-testbed/outputs/resnet50-val/logits.pt')\n",
    "targets = torch.load('/scratch/users/vision/saarim/imagenet-testbed/outputs/resnet50-val/targets.pt')"
   ]
  },
  {
   "cell_type": "code",
   "execution_count": 61,
   "metadata": {},
   "outputs": [
    {
     "data": {
      "text/plain": [
       "torch.Size([50000, 1000])"
      ]
     },
     "execution_count": 61,
     "metadata": {},
     "output_type": "execute_result"
    }
   ],
   "source": [
    "def accuracy_topk(logits, targets, topk=(1, 5)):\n",
    "    maxk = max(topk)\n",
    "    batch_size = targets.size(0)\n",
    "\n",
    "    _, pred = logits.topk(maxk, 1, True, True)\n",
    "    pred = pred.t()\n",
    "    correct = pred.eq(targets.view(1, -1).expand_as(pred))\n",
    "\n",
    "    res = {}\n",
    "    for k in topk:\n",
    "        correct_k = correct[:k].view(-1).float().sum(0, keepdim=True)\n",
    "        res[f'top{k}'] = correct_k.mul_(100.0 / batch_size).item()\n",
    "    return res\n",
    "\n",
    "# _, pred = logits.topk(5, 1, True, True)\n",
    "# pred = pred.t()\n",
    "# correct = pred.eq(targets.view(1, -1).expand_as(pred))\n",
    "# print(pred.t().size())\n",
    "# print(targets.view(1, -1).size())\n",
    "\n"
   ]
  },
  {
   "cell_type": "code",
   "execution_count": null,
   "metadata": {},
   "outputs": [],
   "source": []
  }
 ],
 "metadata": {
  "kernelspec": {
   "display_name": "robustness",
   "language": "python",
   "name": "robustness"
  },
  "language_info": {
   "codemirror_mode": {
    "name": "ipython",
    "version": 3
   },
   "file_extension": ".py",
   "mimetype": "text/x-python",
   "name": "python",
   "nbconvert_exporter": "python",
   "pygments_lexer": "ipython3",
   "version": "3.8.3"
  }
 },
 "nbformat": 4,
 "nbformat_minor": 4
}
