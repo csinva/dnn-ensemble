{
 "cells": [
  {
   "cell_type": "code",
   "execution_count": 1,
   "metadata": {},
   "outputs": [],
   "source": [
    "import os\n",
    "import torch\n",
    "import numpy as np\n",
    "import pandas as pd\n",
    "from collections import defaultdict\n",
    "from tqdm.notebook import tqdm\n",
    "\n",
    "torch.manual_seed(42)"
   ]
  },
  {
   "cell_type": "markdown",
   "metadata": {},
   "source": [
    "#### Load files"
   ]
  },
  {
   "cell_type": "code",
   "execution_count": 2,
   "metadata": {},
   "outputs": [
    {
     "data": {
      "application/vnd.jupyter.widget-view+json": {
       "model_id": "970fff01b2934e5b80af3e2631003cef",
       "version_major": 2,
       "version_minor": 0
      },
      "text/plain": [
       "HBox(children=(FloatProgress(value=0.0, max=206.0), HTML(value='')))"
      ]
     },
     "metadata": {},
     "output_type": "display_data"
    },
    {
     "name": "stdout",
     "output_type": "stream",
     "text": [
      "\n"
     ]
    }
   ],
   "source": [
    "path_to_imagenet = '/scratch/users/vision/saarim/imagenet-testbed/outputs'\n",
    "\n",
    "model_names = []\n",
    "\n",
    "with open('model_names.txt', 'r') as filehandle:\n",
    "    for line in filehandle:\n",
    "        currentPlace = line[:-1]\n",
    "        model_names.append(currentPlace)\n",
    "        \n",
    "logits = defaultdict(dict)\n",
    "targets = {}\n",
    "output_folders = os.listdir(path_to_imagenet)\n",
    "\n",
    "for model in tqdm(model_names):\n",
    "    for eval_setting in ['val', 'imagenetv2-matched-frequency']:\n",
    "        output_folder = model + '-' + eval_setting\n",
    "        if output_folder in output_folders:\n",
    "            model_targets = os.path.join(path_to_imagenet, output_folder, 'targets.pt')\n",
    "            model_logits = os.path.join(path_to_imagenet, output_folder, 'logits.pt')\n",
    "            if os.path.exists(model_logits):\n",
    "                logits[eval_setting][model] = torch.load(model_logits)\n",
    "            if eval_setting not in targets and os.path.exists(model_targets):\n",
    "                targets[eval_setting] = torch.load(model_targets)"
   ]
  },
  {
   "cell_type": "markdown",
   "metadata": {},
   "source": [
    "#### Helper Functions"
   ]
  },
  {
   "cell_type": "code",
   "execution_count": 3,
   "metadata": {},
   "outputs": [],
   "source": [
    "def accuracy_topk(logits, targets, topk=(1, 5)):\n",
    "    maxk = max(topk)\n",
    "    batch_size = targets.size(0)\n",
    "\n",
    "    _, pred = logits.topk(maxk, 1, True, True)\n",
    "    pred = pred.t()\n",
    "    correct = pred.eq(targets.view(1, -1).expand_as(pred))\n",
    "\n",
    "    topk=(1, 5)\n",
    "    res = {}\n",
    "    for k in topk:\n",
    "        correct_k = correct[:k].view(-1).float().sum(0, keepdim=True)\n",
    "        res[f'top{k}'] = correct_k.mul_(100.0 / batch_size).item()\n",
    "    return res\n",
    "\n",
    "def find_correct(logits, targets, topk=1):\n",
    "    \"\"\"Returns a boolean tensor showing correct predictions\"\"\"\n",
    "    batch_size = targets.size(0)\n",
    "\n",
    "    _, pred = logits.topk(1, 1, True, True)\n",
    "    pred = pred.t()\n",
    "    return pred.eq(targets.view(1, -1).expand_as(pred))\n",
    "\n",
    "def num_pairwise_errors(x_correct, y_correct):\n",
    "    \"\"\"Finds the number of shared elements incorrectly classified for x and y\"\"\"\n",
    "    \n",
    "    assert x_correct.size() == y_correct.size(), 'x and y are not the same size'\n",
    "    x_error_idx = (x_correct == False).nonzero(as_tuple=True)[1]\n",
    "    y_error_idx = (y_correct == False).nonzero(as_tuple=True)[1]\n",
    "    return len(np.intersect1d(x_error_idx, y_error_idx))\n",
    "\n",
    "def pairwise_corrcoef(x_logits, y_logits):\n",
    "    \"\"\"Applies softmax to each row of 50000 entries, flattens, then calculates correlation\n",
    "    Note: Logits are originally of shape torch.Size([50000, 1000])\n",
    "    \"\"\"\n",
    "    sigmoid_x = torch.nn.functional.softmax(x_logits, dim=1).flatten().numpy()\n",
    "    sigmoid_y = torch.nn.functional.softmax(y_logits, dim=1).flatten().numpy()\n",
    "    return np.corrcoef(sigmoid_x, sigmoid_y)[0][1]\n",
    "\n",
    "def get_targets(eval_setting, targets):\n",
    "    assert eval_setting in targets, 'eval setting not in targets dict'\n",
    "    return targets[eval_setting]\n",
    "\n",
    "def partition(data):\n",
    "    \"\"\"Deterministically shuffles and partitions data into 80% test data and 20% validation data\"\"\"\n",
    "    train_size = int(0.8 * len(data))\n",
    "    val_size = len(data) - train_size\n",
    "    train_data, val_data = torch.utils.data.random_split(data, [train_size, val_size])    \n",
    "    return train_data.dataset, val_data.dataset\n",
    "    \n"
   ]
  },
  {
   "cell_type": "markdown",
   "metadata": {},
   "source": [
    "#### Pairwise Error Overlap"
   ]
  },
  {
   "cell_type": "code",
   "execution_count": null,
   "metadata": {
    "scrolled": true
   },
   "outputs": [
    {
     "data": {
      "application/vnd.jupyter.widget-view+json": {
       "model_id": "86f29544be5f4ec4966d2c29f5a4e6fe",
       "version_major": 2,
       "version_minor": 0
      },
      "text/plain": [
       "HBox(children=(FloatProgress(value=0.0, max=186.0), HTML(value='')))"
      ]
     },
     "metadata": {},
     "output_type": "display_data"
    },
    {
     "name": "stdout",
     "output_type": "stream",
     "text": [
      "\n"
     ]
    },
    {
     "data": {
      "application/vnd.jupyter.widget-view+json": {
       "model_id": "a1671def973143a086f75c9f637b1af9",
       "version_major": 2,
       "version_minor": 0
      },
      "text/plain": [
       "HBox(children=(FloatProgress(value=0.0, max=203.0), HTML(value='')))"
      ]
     },
     "metadata": {},
     "output_type": "display_data"
    }
   ],
   "source": [
    "def create_pairwise_error_df(eval_setting):\n",
    "    pairwise_errors = defaultdict(dict)\n",
    "    eval_targets = get_targets(eval_setting, targets)\n",
    "\n",
    "    for x_model, x_logits in tqdm(logits[eval_setting].items()):\n",
    "        x_correct = find_correct(x_logits, eval_targets)\n",
    "        x_correct_train, x_correct_test = partition(x_correct)\n",
    "        \n",
    "        for y_model, y_logits in logits[eval_setting].items():\n",
    "            y_correct = find_correct(y_logits, eval_targets)\n",
    "            y_correct_train, y_correct_test = partition(y_correct)\n",
    "            \n",
    "            # utilize symmetric property of pairwise matrix to reduce computation\n",
    "            if x_model != y_model and y_model in pairwise_errors and x_model in pairwise_errors[y_model]:\n",
    "                pairwise_errors[x_model][y_model] = pairwise_errors[y_model][x_model]\n",
    "            else:\n",
    "                pairwise_errors[x_model][y_model] = num_pairwise_errors(x_correct_train, y_correct_train)\n",
    "\n",
    "    df = pd.DataFrame(pairwise_errors)\n",
    "    styles = [dict(selector='caption', props=[('caption-side', 'top'), (\"font-size\", \"150%\")])]\n",
    "    df = df.style.set_table_styles(styles).set_caption(eval_setting)\n",
    "    return df\n",
    "\n",
    "df_val_pairwise_error = create_pairwise_error_df('val')\n",
    "df_imagenetv2_pairwise_error = create_pairwise_error_df('imagenetv2-matched-frequency')\n",
    "\n",
    "display(df_val_pairwise_error)\n",
    "display(df_imagenetv2_pairwise_error)"
   ]
  },
  {
   "cell_type": "markdown",
   "metadata": {},
   "source": [
    "#### Pairwise Correlation Between Concatenated Predicted Probability Vectors"
   ]
  },
  {
   "cell_type": "code",
   "execution_count": null,
   "metadata": {},
   "outputs": [],
   "source": [
    "def create_pairwise_corr_df(eval_setting):\n",
    "    pairwise_corr = defaultdict(dict)\n",
    "    eval_targets = get_targets(eval_setting, targets)\n",
    "\n",
    "    for x_model, x_logits in tqdm(logits[eval_setting].items()):\n",
    "        x_train, x_test = partition(x_logits)\n",
    "        \n",
    "        for y_model, y_logits in logits[eval_setting].items():\n",
    "            y_train, y_test = partition(y_logits)\n",
    "            \n",
    "            # utilize symmetric property of pairwise matrix to reduce computation\n",
    "            if x_model != y_model and y_model in pairwise_corr and x_model in pairwise_corr[y_model]:\n",
    "                pairwise_corr[x_model][y_model] = pairwise_corr[y_model][x_model]\n",
    "            else:\n",
    "                pairwise_corr[x_model][y_model] = pairwise_corrcoef(x_train, y_train)\n",
    "\n",
    "    df = pd.DataFrame(pairwise_corr)\n",
    "    styles = [dict(selector='caption', props=[('caption-side', 'top'), (\"font-size\", \"150%\")])]\n",
    "    df = df.style.set_table_styles(styles).set_caption(eval_setting)\n",
    "    return df\n",
    "\n",
    "df_val_pairwise_corr = create_pairwise_corr_df('val')\n",
    "df_imagenetv2_pairwise_corr = create_pairwise_corr_df('imagenetv2-matched-frequency')\n",
    "\n",
    "display(df_val_pairwise_corr)\n",
    "display(df_imagenetv2_pairwise_corr)"
   ]
  },
  {
   "cell_type": "code",
   "execution_count": null,
   "metadata": {},
   "outputs": [],
   "source": []
  }
 ],
 "metadata": {
  "kernelspec": {
   "display_name": "robustness",
   "language": "python",
   "name": "robustness"
  },
  "language_info": {
   "codemirror_mode": {
    "name": "ipython",
    "version": 3
   },
   "file_extension": ".py",
   "mimetype": "text/x-python",
   "name": "python",
   "nbconvert_exporter": "python",
   "pygments_lexer": "ipython3",
   "version": "3.8.3"
  }
 },
 "nbformat": 4,
 "nbformat_minor": 4
}
