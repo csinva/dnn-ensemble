{
 "cells": [
  {
   "cell_type": "code",
   "execution_count": 15,
   "metadata": {},
   "outputs": [],
   "source": [
    "import os\n",
    "import json \n",
    "import time\n",
    "import torch\n",
    "import random\n",
    "import datetime\n",
    "import eda_utils\n",
    "import numpy as np\n",
    "import pandas as pd\n",
    "import seaborn as sns\n",
    "import matplotlib.pyplot as plt\n",
    "from collections import defaultdict, Counter\n",
    "from sklearn.model_selection import train_test_split\n",
    "from sklearn.calibration import calibration_curve\n",
    "from sklearn.preprocessing import label_binarize\n",
    "from sklearn.metrics import roc_curve, auc\n",
    "from torch.nn.functional import softmax\n",
    "import torch.nn.functional as F\n",
    "import torch.nn as nn \n",
    "from tqdm.auto import tqdm\n",
    "from os.path import join\n",
    "from IPython.display import Image\n",
    "torch.manual_seed(42)\n",
    "random.seed(42)"
   ]
  },
  {
   "cell_type": "markdown",
   "metadata": {},
   "source": [
    "# Load files"
   ]
  },
  {
   "cell_type": "code",
   "execution_count": 2,
   "metadata": {},
   "outputs": [
    {
     "name": "stdout",
     "output_type": "stream",
     "text": [
      "Logging to ./outputs/2021-05-11_20:16:27\n",
      "top5_models ['efficientnet-l2-noisystudent', 'FixResNeXt101_32x48d_v2', 'FixResNeXt101_32x48d', 'instagram-resnext101_32x48d', 'efficientnet-b8-advprop-autoaug']\n"
     ]
    }
   ],
   "source": [
    "dt = datetime.datetime.fromtimestamp(time.time())\n",
    "logdir = os.path.join('./outputs/' ,dt.strftime('%Y-%m-%d_%H:%M:%S'))\n",
    "\n",
    "print(f'Logging to {logdir}')\n",
    "if not os.path.exists(logdir):\n",
    "    os.makedirs(logdir)\n",
    "\n",
    "path_to_imagenet = '/scratch/users/saarimrahman/imagenet-testbed/outputs'\n",
    "model_names = eda_utils.model_names\n",
    "imagenet_dict = eda_utils.imagenet_dict\n",
    "eval_settings = ['val', 'imagenetv2-matched-frequency']\n",
    "\n",
    "ensembled_models = [\n",
    "    'top5_ensemble', 'random5_ensemble', 'top5_random5_ensemble', \n",
    "    'class_weighted_top5_ensemble', 'class_weighted_random5_ensemble', 'class_weighted_top5_random5_ensemble',\n",
    "    'acc_weighted_top5_ensemble', 'acc_weighted_random5_ensemble', 'acc_weighted_top5_random5_ensemble'\n",
    "]\n",
    "\n",
    "top_models = [\n",
    "    'efficientnet-l2-noisystudent', 'FixResNeXt101_32x48d_v2', 'FixResNeXt101_32x48d', \n",
    "    'instagram-resnext101_32x48d', 'efficientnet-b8-advprop-autoaug', 'BiT-M-R152x4-ILSVRC2012', \n",
    "    'efficientnet-b7-advprop-autoaug', 'instagram-resnext101_32x32d', 'BiT-M-R101x3-ILSVRC2012', \n",
    "    'efficientnet-b6-advprop-autoaug', 'efficientnet-b7-randaug', 'efficientnet-b7-autoaug',\n",
    "    'efficientnet-b5-advprop-autoaug', 'resnext101_32x8d_swsl', 'instagram-resnext101_32x16d',\n",
    "    'BiT-M-R50x3-ILSVRC2012', 'efficientnet-b6-autoaug', 'FixPNASNet',\n",
    "    'efficientnet-b5-autoaug', 'efficientnet-b5-randaug', 'resnext101_32x4d_swsl'\n",
    "]\n",
    "\n",
    "top5_models = top_models[:5]\n",
    "print('top5_models', top5_models)\n",
    "# TODO: random 5 from the top 15-20\n",
    "random5_models = ['FixPNASNet', 'dpn68', 'fbresnet152', 'pnasnet5large', 'vgg19']\n"
   ]
  },
  {
   "cell_type": "code",
   "execution_count": 3,
   "metadata": {},
   "outputs": [
    {
     "name": "stdout",
     "output_type": "stream",
     "text": [
      "Checking for missing val logits...\n",
      "0 models missing: []\n",
      "Checking for missing imagenetv2-matched-frequency logits...\n",
      "0 models missing: []\n",
      "Checking for missing val logits...\n",
      "0 models missing: []\n",
      "Checking for missing imagenetv2-matched-frequency logits...\n",
      "0 models missing: []\n"
     ]
    },
    {
     "data": {
      "application/vnd.jupyter.widget-view+json": {
       "model_id": "",
       "version_major": 2,
       "version_minor": 0
      },
      "text/plain": [
       "load_logits_targets:   0%|          | 0/10 [00:00<?, ?it/s]"
      ]
     },
     "metadata": {},
     "output_type": "display_data"
    }
   ],
   "source": [
    "def load_logits_targets(models_to_load):\n",
    "    logits = defaultdict(dict)\n",
    "    targets = {}\n",
    "    output_folders = os.listdir(path_to_imagenet)\n",
    "    for model in tqdm(models_to_load, desc='load_logits_targets', leave=False):\n",
    "        for eval_setting in ['val', 'imagenetv2-matched-frequency']:\n",
    "            output_folder = model + '-' + eval_setting\n",
    "            if output_folder in output_folders:\n",
    "                model_targets = os.path.join(path_to_imagenet, output_folder, 'targets.pt')\n",
    "                model_logits = os.path.join(path_to_imagenet, output_folder, 'logits.pt')\n",
    "                if os.path.exists(model_logits):\n",
    "                    logits[eval_setting][model] = torch.load(model_logits)\n",
    "                if eval_setting not in targets and os.path.exists(model_targets):\n",
    "                    targets[eval_setting] = torch.load(model_targets)\n",
    "    return logits, targets\n",
    "\n",
    "def find_missing_logits(models, eval_setting='val'):\n",
    "    print(f'Checking for missing {eval_setting} logits...')\n",
    "    on_disk, missing = [], []\n",
    "    output_folders = os.listdir(path_to_imagenet)\n",
    "    for model in models:\n",
    "        output_folder = model + '-' + eval_setting\n",
    "        if output_folder in output_folders:\n",
    "            model_logits = os.path.join(path_to_imagenet, output_folder, 'logits.pt')\n",
    "            if os.path.exists(model_logits):\n",
    "                on_disk.append(model)\n",
    "            else:\n",
    "                missing.append(model)\n",
    "        else:\n",
    "            missing.append(model)\n",
    "    print(len(missing), 'models missing:', missing)\n",
    "    return on_disk, missing\n",
    "\n",
    "\n",
    "find_missing_logits(top5_models + random5_models, 'val')\n",
    "find_missing_logits(top5_models + random5_models, 'imagenetv2-matched-frequency')\n",
    "\n",
    "find_missing_logits(top_models[:5], 'val')\n",
    "find_missing_logits(top_models[:5], 'imagenetv2-matched-frequency')\n",
    "\n",
    "logits, targets = load_logits_targets(top5_models + random5_models)\n"
   ]
  },
  {
   "cell_type": "markdown",
   "metadata": {},
   "source": [
    "# Helper Functions"
   ]
  },
  {
   "cell_type": "code",
   "execution_count": 4,
   "metadata": {},
   "outputs": [],
   "source": [
    "def accuracy_topk(logits, targets, topk=1):\n",
    "    batch_size = targets.size(0)\n",
    "\n",
    "    _, pred = logits.topk(topk, 1, True, True)\n",
    "    pred = pred.t()\n",
    "    correct = pred.eq(targets.view(1, -1).expand_as(pred))\n",
    "\n",
    "    correct_k = correct[:topk].view(-1).float().sum(0, keepdim=True)\n",
    "    return correct_k.mul_(100.0 / batch_size).item()\n",
    "\n",
    "def find_correct(logits, targets, topk=1):\n",
    "    \"\"\"Returns a boolean tensor showing correct predictions\"\"\"\n",
    "    batch_size = targets.size(0)\n",
    "\n",
    "    _, pred = logits.topk(topk, 1, True, True)\n",
    "    pred = pred.t()\n",
    "    return pred.eq(targets.view(1, -1).expand_as(pred))\n",
    "\n",
    "def get_pred(logits, topk=1):\n",
    "    _, pred = logits.topk(topk, 1, True, True)\n",
    "    return pred.t()\n",
    "    \n",
    "def num_pairwise_errors(x_correct, y_correct):\n",
    "    \"\"\"Finds the number of shared elements incorrectly classified for x and y\"\"\"\n",
    "    \n",
    "    assert x_correct.size() == y_correct.size(), 'x and y are not the same size'\n",
    "    x_error_idx = (x_correct == False).nonzero(as_tuple=True)[1]\n",
    "    y_error_idx = (y_correct == False).nonzero(as_tuple=True)[1]\n",
    "    return len(np.intersect1d(x_error_idx, y_error_idx))\n",
    "\n",
    "def pairwise_corrcoef(x_logits, y_logits):\n",
    "    \"\"\"Applies softmax to each row of 50000 entries, flattens, then calculates correlation\n",
    "    Note: Logits are originally of shape torch.Size([50000, 1000])\n",
    "    \"\"\"\n",
    "    sigmoid_x = torch.nn.functional.softmax(x_logits, dim=1).flatten().numpy()\n",
    "    sigmoid_y = torch.nn.functional.softmax(y_logits, dim=1).flatten().numpy()\n",
    "    return np.corrcoef(sigmoid_x, sigmoid_y)[0][1]\n",
    "\n",
    "def partition(data, eval_setting='val'):\n",
    "    return train_test_split(data, test_size=0.5, stratify=targets[eval_setting], random_state=42)\n",
    "    \n",
    "def view_image(index, eval_setting='val'):\n",
    "    datasets_path = '/scratch/users/saarimrahman/imagenet-testbed/s3_cache/datasets'\n",
    "    eval_data_path = join(datasets_path, eval_setting)\n",
    "    num_img_per_class = targets[eval_setting].size(0) // 1000\n",
    "    folder_idx = index // num_img_per_class \n",
    "    img_idx = index % num_img_per_class\n",
    "    folder = sorted(os.listdir(eval_data_path))[folder_idx]\n",
    "    folder_path = join(eval_data_path, folder)\n",
    "    file_name = sorted(os.listdir(folder_path))[img_idx]\n",
    "    img_path = join(folder_path, file_name)\n",
    "    print('true class:', imagenet_dict[index // num_img_per_class])\n",
    "    display(Image(filename=img_path))\n",
    "    \n",
    "def sort_dict(dic):\n",
    "    return dict(sorted(dic.items(), key=lambda item: item[1], reverse=True))"
   ]
  },
  {
   "cell_type": "markdown",
   "metadata": {},
   "source": [
    "# Ensemble"
   ]
  },
  {
   "cell_type": "code",
   "execution_count": 5,
   "metadata": {},
   "outputs": [],
   "source": [
    "def get_ensemble_logits(softmax_pred):\n",
    "    \"\"\"Construct ensemble logits from a tensor containing all ensemble model's softmax predictions.\"\"\"\n",
    "    ensemble_logits = []\n",
    "    for i in range(softmax_pred.size(1)): # 50000 examples\n",
    "        logit = torch.mean(softmax_pred[:, i, :], 0)\n",
    "        ensemble_logits.append(logit)\n",
    "    \n",
    "    return torch.stack(ensemble_logits)\n",
    "\n",
    "def ensemble_models(models, eval_setting='val'):\n",
    "    softmax_pred, pred = [], []\n",
    "    \n",
    "    for model in models:\n",
    "        softmax_pred.append(softmax(logits[eval_setting][model], dim=1))\n",
    "    softmax_pred = torch.stack(softmax_pred)\n",
    "    \n",
    "    return get_ensemble_logits(softmax_pred)\n",
    "\n",
    "def majority_vote_models(models):\n",
    "    pred = get_pred(logits['val'][models[0]])\n",
    "    for model in models[1:]:\n",
    "        pred = torch.cat((pred, get_pred(logits['val'][model])), 0)\n",
    "    return torch.mode(pred, 0, keepdim=True)[0]\n",
    "\n",
    "for eval_setting in ['val', 'imagenetv2-matched-frequency']:\n",
    "    logits[eval_setting]['top5_ensemble'] = ensemble_models(top5_models, eval_setting)\n",
    "    logits[eval_setting]['random5_ensemble'] = ensemble_models(random5_models, eval_setting)\n",
    "    logits[eval_setting]['top5_random5_ensemble'] = ensemble_models(top5_models + random5_models, eval_setting)"
   ]
  },
  {
   "cell_type": "code",
   "execution_count": 6,
   "metadata": {},
   "outputs": [],
   "source": [
    "def class_weighted_ensemble(models, eval_setting='val'):\n",
    "    \"\"\"Weights each model's softmax predictions based on its relative accuracy in the class.\n",
    "    Uses half of the class images to calculate in class accuracy. \n",
    "    \"\"\"\n",
    "    w = [] \n",
    "    for model in models:\n",
    "        class_acc = []\n",
    "        pred = get_pred(logits[eval_setting][model])\n",
    "        miss = pred.eq(targets[eval_setting].view(1, -1).expand_as(pred)).float().flatten()\n",
    "        total_images = targets[eval_setting].size(0)\n",
    "        step_size = total_images // 1000\n",
    "        i = 0\n",
    "        while i < total_images:\n",
    "            class_acc.append(miss[i:i+(step_size // 2)].sum().item() / (step_size // 2)) # calculate relative in class accuracy\n",
    "            i += step_size\n",
    "        w.append(torch.tensor(class_acc))\n",
    "        \n",
    "    w = torch.stack(w)\n",
    "    \n",
    "    weighted_softmax_pred = []\n",
    "    for i, model in enumerate(models):\n",
    "        probs = softmax(logits[eval_setting][model], dim=1)\n",
    "        weighted_pred = torch.mul(probs, w[i])\n",
    "        weighted_softmax_pred.append(weighted_pred) \n",
    "    \n",
    "    weighted_softmax_pred = torch.stack(weighted_softmax_pred)\n",
    "    return get_ensemble_logits(weighted_softmax_pred)\n",
    "\n",
    "for eval_setting in ['val', 'imagenetv2-matched-frequency']:\n",
    "    logits[eval_setting]['class_weighted_top5_ensemble'] = class_weighted_ensemble(top5_models, eval_setting)\n",
    "    logits[eval_setting]['class_weighted_random5_ensemble'] = class_weighted_ensemble(random5_models, eval_setting)\n",
    "    logits[eval_setting]['class_weighted_top5_random5_ensemble'] = class_weighted_ensemble(top5_models + random5_models, eval_setting)"
   ]
  },
  {
   "cell_type": "code",
   "execution_count": 7,
   "metadata": {},
   "outputs": [],
   "source": [
    "def acc_weighted_ensemble(models, eval_setting='val'):\n",
    "    \"\"\"Weights each model's softmax predictions based on its overall accuracy on the dataset.\n",
    "    Uses half of the dataset to calculate overall accuracy.\n",
    "    \"\"\"\n",
    "    eval_targets_train, eval_targets_test = partition(targets[eval_setting], eval_setting)\n",
    "\n",
    "    weighted_softmax_pred = []\n",
    "    for model in models:\n",
    "        train_logit, _ = partition(logits[eval_setting][model], eval_setting)\n",
    "        acc = accuracy_topk(train_logit, eval_targets_train)\n",
    "        probs = softmax(logits[eval_setting][model], dim=1)\n",
    "        weighted_pred = torch.mul(probs, acc)\n",
    "        weighted_softmax_pred.append(weighted_pred) \n",
    "        \n",
    "    weighted_softmax_pred = torch.stack(weighted_softmax_pred)\n",
    "    return get_ensemble_logits(weighted_softmax_pred)\n",
    "\n",
    "for eval_setting in ['val', 'imagenetv2-matched-frequency']:\n",
    "    logits[eval_setting]['acc_weighted_top5_ensemble'] = acc_weighted_ensemble(top5_models, eval_setting)\n",
    "    logits[eval_setting]['acc_weighted_random5_ensemble'] = acc_weighted_ensemble(random5_models, eval_setting)\n",
    "    logits[eval_setting]['acc_weighted_top5_random5_ensemble'] = acc_weighted_ensemble(top5_models + random5_models, eval_setting)"
   ]
  },
  {
   "cell_type": "markdown",
   "metadata": {},
   "source": [
    "# Sampling Analysis"
   ]
  },
  {
   "cell_type": "code",
   "execution_count": 77,
   "metadata": {},
   "outputs": [],
   "source": [
    "# here, X and Y are classes\n",
    "def sd_classifier_acc(model, eval_setting, num_classes=1000, num_iters=10000):\n",
    "# model = 'top5_ensemble'\n",
    "# eval_setting = 'val'\n",
    "    rng = np.random.default_rng(42)\n",
    "\n",
    "    # take all 50 ims for each class, computed only once\n",
    "    # E[X] = acc for a class over the 50 images (b/w 0-1)\n",
    "    exp = []\n",
    "\n",
    "    pred = get_pred(logits[eval_setting][model])\n",
    "    miss = pred.eq(targets[eval_setting].view(1, -1).expand_as(pred)).float().flatten()\n",
    "    total_images = targets[eval_setting].size(0)\n",
    "    step_size = total_images // 1000\n",
    "    i = 0\n",
    "    for i in range(num_classes):\n",
    "        exp.append(miss[i*step_size: (i+1)*step_size].sum().item() / step_size) # calculate relative in class accuracy\n",
    "\n",
    "    # E[X, Y]\n",
    "    joint_exp = np.zeros((num_classes, num_classes))  \n",
    "\n",
    "\n",
    "    for _ in range(num_iters):\n",
    "        for x in range(num_classes):\n",
    "            for y in range(x, num_classes):\n",
    "                # randomly select 10 from each class WITHOUT replacement\n",
    "                x_imgs = rng.choice(miss[x*step_size: (x+1)*step_size], size=10, replace=False)\n",
    "                x_acc = x_imgs.sum().item() / 10\n",
    "                y_imgs = rng.choice(miss[y*step_size: (y+1)*step_size], size=10, replace=False)\n",
    "                y_acc = y_imgs.sum().item() / 10\n",
    "\n",
    "                 # E[X, Y] = multiply pairwise for each class\n",
    "                joint_exp[x, y] += x_acc * y_acc\n",
    "\n",
    "                # utilize symmetry to populate matrix\n",
    "                if x != y:\n",
    "                    joint_exp[y, x] = joint_exp[x, y]                    \n",
    "\n",
    "    # then average over num_iters repetitions to get entries into the final matrix\n",
    "    joint_exp = joint_exp / num_iters\n",
    "\n",
    "    # Cov[X, Y]\n",
    "    cov = np.zeros((num_classes, num_classes))\n",
    "    for x in range(num_classes):\n",
    "        for y in range(x, num_classes):\n",
    "            if x == y: \n",
    "                # diagonal entries: E[X] * (1 - E[X])\n",
    "                cov[x, y] = exp[x] * (1 - exp[x])\n",
    "            else:\n",
    "                # off-diagonal: Cov[X, Y] = E[X, Y] - E[X] * E[Y]\n",
    "                cov[x, y] = joint_exp[x, y] - exp[x] * exp[y]\n",
    "                # utilize symmetry to populate matrix\n",
    "                cov[y, x] = cov[x, y] \n",
    "\n",
    "\n",
    "    np.savetxt((join(logdir, f'{model}_{eval_setting}_cov.csv')), cov, delimiter=\",\")\n",
    "\n",
    "    # standard error is sqrt(Sum of all entries in the cov matrix/ num entries in the cov matrix)\n",
    "    std_err = np.sqrt(np.sum(cov)) / num_classes\n",
    "    print(f'[{model}, {eval_setting}] standard error: {std_err}')\n",
    "    return std_err"
   ]
  },
  {
   "cell_type": "code",
   "execution_count": null,
   "metadata": {},
   "outputs": [],
   "source": [
    "for model in ['efficientnet-l2-noisystudent', 'vgg19']:\n",
    "    for eval_setting in eval_settings:\n",
    "        sd_classifier_acc(model, eval_setting, num_classes=50, num_iters=1000)"
   ]
  },
  {
   "cell_type": "code",
   "execution_count": 110,
   "metadata": {},
   "outputs": [],
   "source": [
    "df=pd.read_csv(join(logdir, 'top5_ensemble_val_cov.csv'), sep=',',header=None)"
   ]
  },
  {
   "cell_type": "code",
   "execution_count": 103,
   "metadata": {},
   "outputs": [
    {
     "data": {
      "image/png": "[encoded data removed]",
      "text/plain": [
       "<Figure size 432x288 with 1 Axes>"
      ]
     },
     "metadata": {
      "needs_background": "light"
     },
     "output_type": "display_data"
    }
   ],
   "source": [
    "plt.imshow(np.log(np.abs(df.values + 1e-10)));"
   ]
  },
  {
   "cell_type": "code",
   "execution_count": 113,
   "metadata": {},
   "outputs": [],
   "source": [
    "df_styled = df.style.background_gradient()\n",
    "import dataframe_image as dfi\n",
    "dfi.export(df_styled, join(logdir, 'df_styled.png'), max_cols=-1, max_rows=-1)"
   ]
  },
  {
   "cell_type": "code",
   "execution_count": 88,
   "metadata": {},
   "outputs": [
    {
     "data": {
      "image/png": "[encoded data removed]",
      "text/plain": [
       "<Figure size 432x288 with 1 Axes>"
      ]
     },
     "metadata": {
      "needs_background": "light"
     },
     "output_type": "display_data"
    }
   ],
   "source": [
    "plt.plot([df.values[i, i] for i in range(50)])\n",
    "plt.show();"
   ]
  },
  {
   "cell_type": "code",
   "execution_count": 105,
   "metadata": {},
   "outputs": [
    {
     "name": "stdout",
     "output_type": "stream",
     "text": [
      "10 0.08423775875461074\n",
      "20 0.04543126676640219\n",
      "30 0.04000000000000001\n",
      "40 0.041355168963504434\n",
      "50 0.03860362677262332\n"
     ]
    }
   ],
   "source": [
    "for k in np.arange(10, 60, 10):\n",
    "    print(k, np.sqrt(sum([df.values[i, i] for i in range(k)]) / k**2))"
   ]
  },
  {
   "cell_type": "code",
   "execution_count": 97,
   "metadata": {},
   "outputs": [
    {
     "data": {
      "text/plain": [
       "3.780469999948349"
      ]
     },
     "execution_count": 97,
     "metadata": {},
     "output_type": "execute_result"
    }
   ],
   "source": [
    "np.sum(df.values)"
   ]
  },
  {
   "cell_type": "code",
   "execution_count": 98,
   "metadata": {},
   "outputs": [
    {
     "data": {
      "text/plain": [
       "5.5775179999972835"
      ]
     },
     "execution_count": 98,
     "metadata": {},
     "output_type": "execute_result"
    }
   ],
   "source": [
    "np.sum(np.abs(df.values))"
   ]
  },
  {
   "cell_type": "code",
   "execution_count": null,
   "metadata": {},
   "outputs": [],
   "source": []
  }
 ],
 "metadata": {
  "kernelspec": {
   "display_name": "robustness",
   "language": "python",
   "name": "robustness"
  },
  "language_info": {
   "codemirror_mode": {
    "name": "ipython",
    "version": 3
   },
   "file_extension": ".py",
   "mimetype": "text/x-python",
   "name": "python",
   "nbconvert_exporter": "python",
   "pygments_lexer": "ipython3",
   "version": "3.8.3"
  }
 },
 "nbformat": 4,
 "nbformat_minor": 4
}
